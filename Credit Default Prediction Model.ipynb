{
 "cells": [
  {
   "cell_type": "markdown",
   "id": "35d24b68",
   "metadata": {},
   "source": [
    "#### Credit Default Prediction Model: Enhancing Lending Risk Assessment Through Advanced Analytics"
   ]
  },
  {
   "cell_type": "markdown",
   "id": "18ce412a",
   "metadata": {},
   "source": [
    "##### Problem Statement\n",
    "Traditional credit assessment methods lack precision in predicting loan defaults, leading to missed revenue opportunities and significant portfolio losses from qualified borrowers incorretly deemed as high-risk or vice-versa. We need to develop an advanced predictive model that can leverage our comprehensive dataset of financial indicators, demographic information, and loan characteristics, to more accurately classify potential defaulters. This model will minimize default-related losses to the lending institution and optimize lending decisions that balance portfolio growth with appropriate risk management."
   ]
  },
  {
   "cell_type": "code",
   "execution_count": 1,
   "id": "71598586",
   "metadata": {},
   "outputs": [],
   "source": [
    "# Import libraries\n",
    "import warnings\n",
    "import pandas as pd\n",
    "import seaborn as sns\n",
    "import matplotlib.pyplot as plt\n",
    "import numpy as np\n",
    "from sklearn.preprocessing import OneHotEncoder\n",
    "from sklearn.linear_model import LogisticRegression\n",
    "from sklearn.metrics import accuracy_score\n",
    "from sklearn.model_selection import train_test_split\n",
    "from sklearn.pipeline import Pipeline, make_pipeline\n",
    "from sklearn.ensemble import RandomForestClassifier\n",
    "warnings.simplefilter(action=\"ignore\", category=FutureWarning)"
   ]
  },
  {
   "cell_type": "markdown",
   "id": "18a5389d",
   "metadata": {},
   "source": [
    "##### Prepare the Data"
   ]
  },
  {
   "cell_type": "code",
   "execution_count": 2,
   "id": "8f5564a8",
   "metadata": {},
   "outputs": [
    {
     "data": {
      "application/vnd.microsoft.datawrangler.viewer.v0+json": {
       "columns": [
        {
         "name": "index",
         "rawType": "int64",
         "type": "integer"
        },
        {
         "name": "customer_id",
         "rawType": "object",
         "type": "string"
        },
        {
         "name": "loan_id",
         "rawType": "object",
         "type": "string"
        },
        {
         "name": "loan_type",
         "rawType": "object",
         "type": "string"
        },
        {
         "name": "loan_amount",
         "rawType": "int64",
         "type": "integer"
        },
        {
         "name": "interest_rate",
         "rawType": "float64",
         "type": "float"
        },
        {
         "name": "loan_term",
         "rawType": "int64",
         "type": "integer"
        },
        {
         "name": "employment_type",
         "rawType": "object",
         "type": "string"
        },
        {
         "name": "income_level",
         "rawType": "object",
         "type": "string"
        },
        {
         "name": "credit_score",
         "rawType": "int64",
         "type": "integer"
        },
        {
         "name": "gender",
         "rawType": "object",
         "type": "string"
        },
        {
         "name": "marital_status",
         "rawType": "object",
         "type": "string"
        },
        {
         "name": "education_level",
         "rawType": "object",
         "type": "string"
        },
        {
         "name": "application_date",
         "rawType": "object",
         "type": "string"
        },
        {
         "name": "approval_date",
         "rawType": "object",
         "type": "string"
        },
        {
         "name": "disbursement_date",
         "rawType": "object",
         "type": "string"
        },
        {
         "name": "due_date",
         "rawType": "object",
         "type": "string"
        },
        {
         "name": "default_status",
         "rawType": "bool",
         "type": "boolean"
        }
       ],
       "conversionMethod": "pd.DataFrame",
       "ref": "8f278acc-371a-4415-b597-0c250cd87507",
       "rows": [
        [
         "0",
         "CUST-00004912",
         "LN00004170",
         "Car Loan",
         "16795",
         "0.051851709",
         "15",
         "Self-employed",
         "Medium",
         "833",
         "Male",
         "Single",
         "Master",
         "05-04-2018",
         "23-04-2018",
         "24-04-2018",
         "14-08-2018",
         "False"
        ],
        [
         "1",
         "CUST-00004194",
         "LN00002413",
         "Personal Loan",
         "1860",
         "0.089295672",
         "56",
         "Full-time",
         "Medium",
         "776",
         "Female",
         "Married",
         "Bachelor",
         "30-12-2022",
         "31-12-2022",
         "12-01-2023",
         "05-04-2023",
         "False"
        ],
        [
         "2",
         "CUST-00003610",
         "LN00000024",
         "Personal Loan",
         "77820",
         "0.070469564",
         "51",
         "Full-time",
         "Low",
         "697",
         "Male",
         "Divorced",
         "High School",
         "15-11-2019",
         "18-11-2019",
         "27-11-2019",
         "24-02-2020",
         "False"
        ],
        [
         "3",
         "CUST-00001895",
         "LN00001742",
         "Car Loan",
         "55886",
         "0.062155",
         "30",
         "Full-time",
         "Low",
         "795",
         "Female",
         "Married",
         "PhD",
         "25-08-2021",
         "08-09-2021",
         "11-09-2021",
         "25-02-2022",
         "False"
        ],
        [
         "4",
         "CUST-00003782",
         "LN00003161",
         "Home Loan",
         "7265",
         "0.070634819",
         "48",
         "Part-time",
         "Low",
         "519",
         "Female",
         "Married",
         "High School",
         "02-09-2020",
         "07-09-2020",
         "11-09-2020",
         "29-12-2020",
         "False"
        ]
       ],
       "shape": {
        "columns": 17,
        "rows": 5
       }
      },
      "text/html": [
       "<div>\n",
       "<style scoped>\n",
       "    .dataframe tbody tr th:only-of-type {\n",
       "        vertical-align: middle;\n",
       "    }\n",
       "\n",
       "    .dataframe tbody tr th {\n",
       "        vertical-align: top;\n",
       "    }\n",
       "\n",
       "    .dataframe thead th {\n",
       "        text-align: right;\n",
       "    }\n",
       "</style>\n",
       "<table border=\"1\" class=\"dataframe\">\n",
       "  <thead>\n",
       "    <tr style=\"text-align: right;\">\n",
       "      <th></th>\n",
       "      <th>customer_id</th>\n",
       "      <th>loan_id</th>\n",
       "      <th>loan_type</th>\n",
       "      <th>loan_amount</th>\n",
       "      <th>interest_rate</th>\n",
       "      <th>loan_term</th>\n",
       "      <th>employment_type</th>\n",
       "      <th>income_level</th>\n",
       "      <th>credit_score</th>\n",
       "      <th>gender</th>\n",
       "      <th>marital_status</th>\n",
       "      <th>education_level</th>\n",
       "      <th>application_date</th>\n",
       "      <th>approval_date</th>\n",
       "      <th>disbursement_date</th>\n",
       "      <th>due_date</th>\n",
       "      <th>default_status</th>\n",
       "    </tr>\n",
       "  </thead>\n",
       "  <tbody>\n",
       "    <tr>\n",
       "      <th>0</th>\n",
       "      <td>CUST-00004912</td>\n",
       "      <td>LN00004170</td>\n",
       "      <td>Car Loan</td>\n",
       "      <td>16795</td>\n",
       "      <td>0.051852</td>\n",
       "      <td>15</td>\n",
       "      <td>Self-employed</td>\n",
       "      <td>Medium</td>\n",
       "      <td>833</td>\n",
       "      <td>Male</td>\n",
       "      <td>Single</td>\n",
       "      <td>Master</td>\n",
       "      <td>05-04-2018</td>\n",
       "      <td>23-04-2018</td>\n",
       "      <td>24-04-2018</td>\n",
       "      <td>14-08-2018</td>\n",
       "      <td>False</td>\n",
       "    </tr>\n",
       "    <tr>\n",
       "      <th>1</th>\n",
       "      <td>CUST-00004194</td>\n",
       "      <td>LN00002413</td>\n",
       "      <td>Personal Loan</td>\n",
       "      <td>1860</td>\n",
       "      <td>0.089296</td>\n",
       "      <td>56</td>\n",
       "      <td>Full-time</td>\n",
       "      <td>Medium</td>\n",
       "      <td>776</td>\n",
       "      <td>Female</td>\n",
       "      <td>Married</td>\n",
       "      <td>Bachelor</td>\n",
       "      <td>30-12-2022</td>\n",
       "      <td>31-12-2022</td>\n",
       "      <td>12-01-2023</td>\n",
       "      <td>05-04-2023</td>\n",
       "      <td>False</td>\n",
       "    </tr>\n",
       "    <tr>\n",
       "      <th>2</th>\n",
       "      <td>CUST-00003610</td>\n",
       "      <td>LN00000024</td>\n",
       "      <td>Personal Loan</td>\n",
       "      <td>77820</td>\n",
       "      <td>0.070470</td>\n",
       "      <td>51</td>\n",
       "      <td>Full-time</td>\n",
       "      <td>Low</td>\n",
       "      <td>697</td>\n",
       "      <td>Male</td>\n",
       "      <td>Divorced</td>\n",
       "      <td>High School</td>\n",
       "      <td>15-11-2019</td>\n",
       "      <td>18-11-2019</td>\n",
       "      <td>27-11-2019</td>\n",
       "      <td>24-02-2020</td>\n",
       "      <td>False</td>\n",
       "    </tr>\n",
       "    <tr>\n",
       "      <th>3</th>\n",
       "      <td>CUST-00001895</td>\n",
       "      <td>LN00001742</td>\n",
       "      <td>Car Loan</td>\n",
       "      <td>55886</td>\n",
       "      <td>0.062155</td>\n",
       "      <td>30</td>\n",
       "      <td>Full-time</td>\n",
       "      <td>Low</td>\n",
       "      <td>795</td>\n",
       "      <td>Female</td>\n",
       "      <td>Married</td>\n",
       "      <td>PhD</td>\n",
       "      <td>25-08-2021</td>\n",
       "      <td>08-09-2021</td>\n",
       "      <td>11-09-2021</td>\n",
       "      <td>25-02-2022</td>\n",
       "      <td>False</td>\n",
       "    </tr>\n",
       "    <tr>\n",
       "      <th>4</th>\n",
       "      <td>CUST-00003782</td>\n",
       "      <td>LN00003161</td>\n",
       "      <td>Home Loan</td>\n",
       "      <td>7265</td>\n",
       "      <td>0.070635</td>\n",
       "      <td>48</td>\n",
       "      <td>Part-time</td>\n",
       "      <td>Low</td>\n",
       "      <td>519</td>\n",
       "      <td>Female</td>\n",
       "      <td>Married</td>\n",
       "      <td>High School</td>\n",
       "      <td>02-09-2020</td>\n",
       "      <td>07-09-2020</td>\n",
       "      <td>11-09-2020</td>\n",
       "      <td>29-12-2020</td>\n",
       "      <td>False</td>\n",
       "    </tr>\n",
       "  </tbody>\n",
       "</table>\n",
       "</div>"
      ],
      "text/plain": [
       "     customer_id     loan_id      loan_type  loan_amount  interest_rate  \\\n",
       "0  CUST-00004912  LN00004170       Car Loan        16795       0.051852   \n",
       "1  CUST-00004194  LN00002413  Personal Loan         1860       0.089296   \n",
       "2  CUST-00003610  LN00000024  Personal Loan        77820       0.070470   \n",
       "3  CUST-00001895  LN00001742       Car Loan        55886       0.062155   \n",
       "4  CUST-00003782  LN00003161      Home Loan         7265       0.070635   \n",
       "\n",
       "   loan_term employment_type income_level  credit_score  gender  \\\n",
       "0         15   Self-employed       Medium           833    Male   \n",
       "1         56       Full-time       Medium           776  Female   \n",
       "2         51       Full-time          Low           697    Male   \n",
       "3         30       Full-time          Low           795  Female   \n",
       "4         48       Part-time          Low           519  Female   \n",
       "\n",
       "  marital_status education_level application_date approval_date  \\\n",
       "0         Single          Master       05-04-2018    23-04-2018   \n",
       "1        Married        Bachelor       30-12-2022    31-12-2022   \n",
       "2       Divorced     High School       15-11-2019    18-11-2019   \n",
       "3        Married             PhD       25-08-2021    08-09-2021   \n",
       "4        Married     High School       02-09-2020    07-09-2020   \n",
       "\n",
       "  disbursement_date    due_date  default_status  \n",
       "0        24-04-2018  14-08-2018           False  \n",
       "1        12-01-2023  05-04-2023           False  \n",
       "2        27-11-2019  24-02-2020           False  \n",
       "3        11-09-2021  25-02-2022           False  \n",
       "4        11-09-2020  29-12-2020           False  "
      ]
     },
     "execution_count": 2,
     "metadata": {},
     "output_type": "execute_result"
    }
   ],
   "source": [
    "# Load the dataset\n",
    "df = pd.read_csv(\"Project 1 Finance Predictive Analysis-ML.csv\")\n",
    "df.head()"
   ]
  },
  {
   "cell_type": "code",
   "execution_count": 3,
   "id": "237ab3a1",
   "metadata": {},
   "outputs": [
    {
     "name": "stdout",
     "output_type": "stream",
     "text": [
      "<class 'pandas.core.frame.DataFrame'>\n",
      "RangeIndex: 5000 entries, 0 to 4999\n",
      "Data columns (total 17 columns):\n",
      " #   Column             Non-Null Count  Dtype  \n",
      "---  ------             --------------  -----  \n",
      " 0   customer_id        5000 non-null   object \n",
      " 1   loan_id            5000 non-null   object \n",
      " 2   loan_type          5000 non-null   object \n",
      " 3   loan_amount        5000 non-null   int64  \n",
      " 4   interest_rate      5000 non-null   float64\n",
      " 5   loan_term          5000 non-null   int64  \n",
      " 6   employment_type    5000 non-null   object \n",
      " 7   income_level       5000 non-null   object \n",
      " 8   credit_score       5000 non-null   int64  \n",
      " 9   gender             5000 non-null   object \n",
      " 10  marital_status     5000 non-null   object \n",
      " 11  education_level    5000 non-null   object \n",
      " 12  application_date   5000 non-null   object \n",
      " 13  approval_date      5000 non-null   object \n",
      " 14  disbursement_date  5000 non-null   object \n",
      " 15  due_date           5000 non-null   object \n",
      " 16  default_status     5000 non-null   bool   \n",
      "dtypes: bool(1), float64(1), int64(3), object(12)\n",
      "memory usage: 630.0+ KB\n"
     ]
    }
   ],
   "source": [
    "#Check the column information\n",
    "df.info()"
   ]
  },
  {
   "cell_type": "code",
   "execution_count": 4,
   "id": "2399355f",
   "metadata": {},
   "outputs": [],
   "source": [
    "#Drop high cardinality features\n",
    "df.drop(columns=[\"customer_id\",\"loan_id\"], inplace=True)"
   ]
  },
  {
   "cell_type": "code",
   "execution_count": 5,
   "id": "3b3377a5",
   "metadata": {},
   "outputs": [],
   "source": [
    "def group_credit_score(name):\n",
    "    if 'credit_score_' in name:\n",
    "        score = int(name.split('_')[-1])\n",
    "        if 800 <= score <= 850:\n",
    "            return \"Credit Score: Excellent\"\n",
    "        elif 740 <= score < 800:\n",
    "            return \"Credit Score: Very Good\"\n",
    "        elif 670 <= score < 740:\n",
    "            return \"Credit Score: Good\"\n",
    "        elif 580 <= score < 670:\n",
    "            return \"Credit Score: Fair\"\n",
    "        elif 300 <= score < 580:\n",
    "            return \"Credit Score: Poor\"\n",
    "    return name\n"
   ]
  },
  {
   "cell_type": "code",
   "execution_count": 6,
   "id": "1c653665",
   "metadata": {},
   "outputs": [],
   "source": [
    "#Change default_status from boolean to integer\n",
    "df[\"default_status\"] = df['default_status'].astype(int)"
   ]
  },
  {
   "cell_type": "markdown",
   "id": "ea8882d6",
   "metadata": {},
   "source": [
    "##### Explore the data\n",
    "Since the model is a type of linear model, it is paramount to make sure the dataset does not have issues with multicollinearity\n",
    "- Plot a correlation heatmap of the remaining numerical features in the df. Since \"default status\" is the target, we won't include it"
   ]
  },
  {
   "cell_type": "code",
   "execution_count": 7,
   "id": "0825064f",
   "metadata": {},
   "outputs": [
    {
     "data": {
      "image/png": "[encoded data removed]",
      "text/plain": [
       "<Figure size 640x480 with 2 Axes>"
      ]
     },
     "metadata": {},
     "output_type": "display_data"
    }
   ],
   "source": [
    "#Create a correlation matrix\n",
    "correlation = df.select_dtypes(\"number\").drop(columns=\"default_status\").corr()\n",
    "correlation\n",
    "#plot the heatmap of correlation\n",
    "sns.heatmap(correlation);"
   ]
  },
  {
   "cell_type": "markdown",
   "id": "e49ea5b9",
   "metadata": {},
   "source": [
    "Use seaborn to create a boxplot that shows the distribution of  \"credit_score\", \"loan_amount\", \"loan_term\", and \"interest_rate\" columns for both groups in \"default_status\""
   ]
  },
  {
   "cell_type": "code",
   "execution_count": 8,
   "id": "58c09758",
   "metadata": {},
   "outputs": [
    {
     "data": {
      "image/png": "[encoded data removed]",
      "text/plain": [
       "<Figure size 600x400 with 1 Axes>"
      ]
     },
     "metadata": {},
     "output_type": "display_data"
    },
    {
     "data": {
      "image/png": "[encoded data removed]",
      "text/plain": [
       "<Figure size 600x400 with 1 Axes>"
      ]
     },
     "metadata": {},
     "output_type": "display_data"
    },
    {
     "data": {
      "image/png": "[encoded data removed]",
      "text/plain": [
       "<Figure size 600x400 with 1 Axes>"
      ]
     },
     "metadata": {},
     "output_type": "display_data"
    },
    {
     "data": {
      "image/png": "[encoded data removed]",
      "text/plain": [
       "<Figure size 600x400 with 1 Axes>"
      ]
     },
     "metadata": {},
     "output_type": "display_data"
    }
   ],
   "source": [
    "#Create the boxplot\n",
    "columns = [\"credit_score\", \"loan_amount\",  \"loan_term\", \"interest_rate\"]\n",
    "for column in columns:\n",
    "    plt.figure(figsize=(6,4))\n",
    "    sns.boxplot(x=\"default_status\", y=column, data=df)\n",
    "    plt.title(f'{column} by Default Status')\n",
    "    plt.tight_layout()\n",
    "    plt.show()\n",
    "    \n"
   ]
  },
  {
   "cell_type": "markdown",
   "id": "f1c37846",
   "metadata": {},
   "source": [
    "Create a bar chart of the value counts for the \"default status\" column"
   ]
  },
  {
   "cell_type": "code",
   "execution_count": 9,
   "id": "71617c9c",
   "metadata": {},
   "outputs": [
    {
     "data": {
      "image/png": "[encoded data removed]",
      "text/plain": [
       "<Figure size 640x480 with 1 Axes>"
      ]
     },
     "metadata": {},
     "output_type": "display_data"
    }
   ],
   "source": [
    "#Plot value_counts for \"default_status\"\n",
    "df[\"default_status\"].value_counts(normalize=True).plot(\n",
    "    kind=\"bar\", xlabel=\"Class\", ylabel=\"Relative Frequency\", title=\"Class Balance\"\n",
    ");"
   ]
  },
  {
   "cell_type": "markdown",
   "id": "63f6a80c",
   "metadata": {},
   "source": [
    "Create two variables to store the normalized value counts for the two classes in df[\"default_status\"]"
   ]
  },
  {
   "cell_type": "code",
   "execution_count": 10,
   "id": "de997e99",
   "metadata": {},
   "outputs": [
    {
     "name": "stdout",
     "output_type": "stream",
     "text": [
      "0.8002 0.1998\n"
     ]
    }
   ],
   "source": [
    "majority_class, minority_class = df[\"default_status\"].value_counts(normalize=True)\n",
    "print(majority_class, minority_class)"
   ]
  },
  {
   "cell_type": "markdown",
   "id": "e5b9f869",
   "metadata": {},
   "source": [
    "Are there clients with certain loan_type that are more likely to default? Create a pivot table where the \"loan_type\" is the index, values come from \"default_status\" aggregated by mean"
   ]
  },
  {
   "cell_type": "code",
   "execution_count": 11,
   "id": "f4fbf724",
   "metadata": {},
   "outputs": [
    {
     "data": {
      "application/vnd.microsoft.datawrangler.viewer.v0+json": {
       "columns": [
        {
         "name": "loan_type",
         "rawType": "object",
         "type": "string"
        },
        {
         "name": "default_status",
         "rawType": "float64",
         "type": "float"
        }
       ],
       "conversionMethod": "pd.DataFrame",
       "ref": "ce19c410-b62a-46ec-8f85-e51b1108ec93",
       "rows": [
        [
         "Education Loan",
         "0.17681895093062605"
        ],
        [
         "Home Loan",
         "0.19699367088607594"
        ],
        [
         "Personal Loan",
         "0.19984387197501952"
        ],
        [
         "Car Loan",
         "0.22388059701492538"
        ]
       ],
       "shape": {
        "columns": 1,
        "rows": 4
       }
      },
      "text/html": [
       "<div>\n",
       "<style scoped>\n",
       "    .dataframe tbody tr th:only-of-type {\n",
       "        vertical-align: middle;\n",
       "    }\n",
       "\n",
       "    .dataframe tbody tr th {\n",
       "        vertical-align: top;\n",
       "    }\n",
       "\n",
       "    .dataframe thead th {\n",
       "        text-align: right;\n",
       "    }\n",
       "</style>\n",
       "<table border=\"1\" class=\"dataframe\">\n",
       "  <thead>\n",
       "    <tr style=\"text-align: right;\">\n",
       "      <th></th>\n",
       "      <th>default_status</th>\n",
       "    </tr>\n",
       "    <tr>\n",
       "      <th>loan_type</th>\n",
       "      <th></th>\n",
       "    </tr>\n",
       "  </thead>\n",
       "  <tbody>\n",
       "    <tr>\n",
       "      <th>Education Loan</th>\n",
       "      <td>0.176819</td>\n",
       "    </tr>\n",
       "    <tr>\n",
       "      <th>Home Loan</th>\n",
       "      <td>0.196994</td>\n",
       "    </tr>\n",
       "    <tr>\n",
       "      <th>Personal Loan</th>\n",
       "      <td>0.199844</td>\n",
       "    </tr>\n",
       "    <tr>\n",
       "      <th>Car Loan</th>\n",
       "      <td>0.223881</td>\n",
       "    </tr>\n",
       "  </tbody>\n",
       "</table>\n",
       "</div>"
      ],
      "text/plain": [
       "                default_status\n",
       "loan_type                     \n",
       "Education Loan        0.176819\n",
       "Home Loan             0.196994\n",
       "Personal Loan         0.199844\n",
       "Car Loan              0.223881"
      ]
     },
     "execution_count": 11,
     "metadata": {},
     "output_type": "execute_result"
    }
   ],
   "source": [
    "#Create pivot table\n",
    "loan_type_pivot = pd.pivot_table(\n",
    "    df, index=\"loan_type\", values=\"default_status\", aggfunc=np.mean\n",
    ").sort_values(by=\"default_status\")\n",
    "loan_type_pivot"
   ]
  },
  {
   "cell_type": "markdown",
   "id": "44dc7d31",
   "metadata": {},
   "source": [
    "How do proportions in loan_type_pivot compare to the majority and minority classes"
   ]
  },
  {
   "cell_type": "code",
   "execution_count": 12,
   "id": "69d6500b",
   "metadata": {},
   "outputs": [
    {
     "data": {
      "image/png": "[encoded data removed]",
      "text/plain": [
       "<Figure size 640x480 with 1 Axes>"
      ]
     },
     "metadata": {},
     "output_type": "display_data"
    }
   ],
   "source": [
    "#Create a bar chart of loan_type_pivot\n",
    "loan_type_pivot.plot(kind=\"barh\")\n",
    "plt.axvline(majority_class, linestyle=\"--\", color=\"red\")\n",
    "plt.axvline(minority_class, linestyle=\"--\", color=\"green\")\n",
    "plt.legend(loc=\"lower right\");"
   ]
  },
  {
   "cell_type": "markdown",
   "id": "beede55d",
   "metadata": {},
   "source": [
    "##### Split the data into train and test sets\n",
    "Create the feature X and target vector y. The target is \"default_status\""
   ]
  },
  {
   "cell_type": "code",
   "execution_count": 13,
   "id": "fa11ef70",
   "metadata": {},
   "outputs": [],
   "source": [
    "target = \"default_status\"\n",
    "X= df.drop(columns=target)\n",
    "y = df[target]"
   ]
  },
  {
   "cell_type": "markdown",
   "id": "b62171a0",
   "metadata": {},
   "source": [
    "In this step, we divide the data (X and y) into training and test sets in a randomized test split. The test set should be 20% and a random state of 42 for reproducibility"
   ]
  },
  {
   "cell_type": "code",
   "execution_count": 14,
   "id": "0e632cbf",
   "metadata": {},
   "outputs": [
    {
     "name": "stdout",
     "output_type": "stream",
     "text": [
      "X_train shape: (4000, 14)\n",
      "y_train shape: (4000,)\n",
      "X_test shape: (1000, 14)\n",
      "y_test shape: (1000,)\n"
     ]
    }
   ],
   "source": [
    "X_train, X_test, y_train, y_test = train_test_split(X,y, test_size=0.2, random_state=42)\n",
    "print(\"X_train shape:\", X_train.shape)\n",
    "print(\"y_train shape:\", y_train.shape)\n",
    "print(\"X_test shape:\", X_test.shape)\n",
    "print(\"y_test shape:\", y_test.shape)"
   ]
  },
  {
   "cell_type": "markdown",
   "id": "09618699",
   "metadata": {},
   "source": [
    "##### Build model\n",
    "Baseline\n",
    "Calculate the baseline accuracy score for your model.\n",
    "\n",
    "What's accuracy score?"
   ]
  },
  {
   "cell_type": "code",
   "execution_count": 15,
   "id": "0ded6225",
   "metadata": {},
   "outputs": [
    {
     "name": "stdout",
     "output_type": "stream",
     "text": [
      "Baseline accuracy: 0.8\n"
     ]
    }
   ],
   "source": [
    "acc_baseline =y_train.value_counts(normalize=True).max()\n",
    "print(\"Baseline accuracy:\", round(acc_baseline, 2))"
   ]
  },
  {
   "cell_type": "markdown",
   "id": "d46fdbdf",
   "metadata": {},
   "source": [
    "Create a pipeline named lr that contains OneHotEncoder transformer and LogisticRegression as the predictor, be sure to set the use_cat_names to True"
   ]
  },
  {
   "cell_type": "code",
   "execution_count": 16,
   "id": "b5dad4bb",
   "metadata": {},
   "outputs": [
    {
     "data": {
      "text/html": [
       "<style>#sk-container-id-1 {\n",
       "  /* Definition of color scheme common for light and dark mode */\n",
       "  --sklearn-color-text: black;\n",
       "  --sklearn-color-line: gray;\n",
       "  /* Definition of color scheme for unfitted estimators */\n",
       "  --sklearn-color-unfitted-level-0: #fff5e6;\n",
       "  --sklearn-color-unfitted-level-1: #f6e4d2;\n",
       "  --sklearn-color-unfitted-level-2: #ffe0b3;\n",
       "  --sklearn-color-unfitted-level-3: chocolate;\n",
       "  /* Definition of color scheme for fitted estimators */\n",
       "  --sklearn-color-fitted-level-0: #f0f8ff;\n",
       "  --sklearn-color-fitted-level-1: #d4ebff;\n",
       "  --sklearn-color-fitted-level-2: #b3dbfd;\n",
       "  --sklearn-color-fitted-level-3: cornflowerblue;\n",
       "\n",
       "  /* Specific color for light theme */\n",
       "  --sklearn-color-text-on-default-background: var(--sg-text-color, var(--theme-code-foreground, var(--jp-content-font-color1, black)));\n",
       "  --sklearn-color-background: var(--sg-background-color, var(--theme-background, var(--jp-layout-color0, white)));\n",
       "  --sklearn-color-border-box: var(--sg-text-color, var(--theme-code-foreground, var(--jp-content-font-color1, black)));\n",
       "  --sklearn-color-icon: #696969;\n",
       "\n",
       "  @media (prefers-color-scheme: dark) {\n",
       "    /* Redefinition of color scheme for dark theme */\n",
       "    --sklearn-color-text-on-default-background: var(--sg-text-color, var(--theme-code-foreground, var(--jp-content-font-color1, white)));\n",
       "    --sklearn-color-background: var(--sg-background-color, var(--theme-background, var(--jp-layout-color0, #111)));\n",
       "    --sklearn-color-border-box: var(--sg-text-color, var(--theme-code-foreground, var(--jp-content-font-color1, white)));\n",
       "    --sklearn-color-icon: #878787;\n",
       "  }\n",
       "}\n",
       "\n",
       "#sk-container-id-1 {\n",
       "  color: var(--sklearn-color-text);\n",
       "}\n",
       "\n",
       "#sk-container-id-1 pre {\n",
       "  padding: 0;\n",
       "}\n",
       "\n",
       "#sk-container-id-1 input.sk-hidden--visually {\n",
       "  border: 0;\n",
       "  clip: rect(1px 1px 1px 1px);\n",
       "  clip: rect(1px, 1px, 1px, 1px);\n",
       "  height: 1px;\n",
       "  margin: -1px;\n",
       "  overflow: hidden;\n",
       "  padding: 0;\n",
       "  position: absolute;\n",
       "  width: 1px;\n",
       "}\n",
       "\n",
       "#sk-container-id-1 div.sk-dashed-wrapped {\n",
       "  border: 1px dashed var(--sklearn-color-line);\n",
       "  margin: 0 0.4em 0.5em 0.4em;\n",
       "  box-sizing: border-box;\n",
       "  padding-bottom: 0.4em;\n",
       "  background-color: var(--sklearn-color-background);\n",
       "}\n",
       "\n",
       "#sk-container-id-1 div.sk-container {\n",
       "  /* jupyter's `normalize.less` sets `[hidden] { display: none; }`\n",
       "     but bootstrap.min.css set `[hidden] { display: none !important; }`\n",
       "     so we also need the `!important` here to be able to override the\n",
       "     default hidden behavior on the sphinx rendered scikit-learn.org.\n",
       "     See: https://github.com/scikit-learn/scikit-learn/issues/21755 */\n",
       "  display: inline-block !important;\n",
       "  position: relative;\n",
       "}\n",
       "\n",
       "#sk-container-id-1 div.sk-text-repr-fallback {\n",
       "  display: none;\n",
       "}\n",
       "\n",
       "div.sk-parallel-item,\n",
       "div.sk-serial,\n",
       "div.sk-item {\n",
       "  /* draw centered vertical line to link estimators */\n",
       "  background-image: linear-gradient(var(--sklearn-color-text-on-default-background), var(--sklearn-color-text-on-default-background));\n",
       "  background-size: 2px 100%;\n",
       "  background-repeat: no-repeat;\n",
       "  background-position: center center;\n",
       "}\n",
       "\n",
       "/* Parallel-specific style estimator block */\n",
       "\n",
       "#sk-container-id-1 div.sk-parallel-item::after {\n",
       "  content: \"\";\n",
       "  width: 100%;\n",
       "  border-bottom: 2px solid var(--sklearn-color-text-on-default-background);\n",
       "  flex-grow: 1;\n",
       "}\n",
       "\n",
       "#sk-container-id-1 div.sk-parallel {\n",
       "  display: flex;\n",
       "  align-items: stretch;\n",
       "  justify-content: center;\n",
       "  background-color: var(--sklearn-color-background);\n",
       "  position: relative;\n",
       "}\n",
       "\n",
       "#sk-container-id-1 div.sk-parallel-item {\n",
       "  display: flex;\n",
       "  flex-direction: column;\n",
       "}\n",
       "\n",
       "#sk-container-id-1 div.sk-parallel-item:first-child::after {\n",
       "  align-self: flex-end;\n",
       "  width: 50%;\n",
       "}\n",
       "\n",
       "#sk-container-id-1 div.sk-parallel-item:last-child::after {\n",
       "  align-self: flex-start;\n",
       "  width: 50%;\n",
       "}\n",
       "\n",
       "#sk-container-id-1 div.sk-parallel-item:only-child::after {\n",
       "  width: 0;\n",
       "}\n",
       "\n",
       "/* Serial-specific style estimator block */\n",
       "\n",
       "#sk-container-id-1 div.sk-serial {\n",
       "  display: flex;\n",
       "  flex-direction: column;\n",
       "  align-items: center;\n",
       "  background-color: var(--sklearn-color-background);\n",
       "  padding-right: 1em;\n",
       "  padding-left: 1em;\n",
       "}\n",
       "\n",
       "\n",
       "/* Toggleable style: style used for estimator/Pipeline/ColumnTransformer box that is\n",
       "clickable and can be expanded/collapsed.\n",
       "- Pipeline and ColumnTransformer use this feature and define the default style\n",
       "- Estimators will overwrite some part of the style using the `sk-estimator` class\n",
       "*/\n",
       "\n",
       "/* Pipeline and ColumnTransformer style (default) */\n",
       "\n",
       "#sk-container-id-1 div.sk-toggleable {\n",
       "  /* Default theme specific background. It is overwritten whether we have a\n",
       "  specific estimator or a Pipeline/ColumnTransformer */\n",
       "  background-color: var(--sklearn-color-background);\n",
       "}\n",
       "\n",
       "/* Toggleable label */\n",
       "#sk-container-id-1 label.sk-toggleable__label {\n",
       "  cursor: pointer;\n",
       "  display: block;\n",
       "  width: 100%;\n",
       "  margin-bottom: 0;\n",
       "  padding: 0.5em;\n",
       "  box-sizing: border-box;\n",
       "  text-align: center;\n",
       "}\n",
       "\n",
       "#sk-container-id-1 label.sk-toggleable__label-arrow:before {\n",
       "  /* Arrow on the left of the label */\n",
       "  content: \"▸\";\n",
       "  float: left;\n",
       "  margin-right: 0.25em;\n",
       "  color: var(--sklearn-color-icon);\n",
       "}\n",
       "\n",
       "#sk-container-id-1 label.sk-toggleable__label-arrow:hover:before {\n",
       "  color: var(--sklearn-color-text);\n",
       "}\n",
       "\n",
       "/* Toggleable content - dropdown */\n",
       "\n",
       "#sk-container-id-1 div.sk-toggleable__content {\n",
       "  max-height: 0;\n",
       "  max-width: 0;\n",
       "  overflow: hidden;\n",
       "  text-align: left;\n",
       "  /* unfitted */\n",
       "  background-color: var(--sklearn-color-unfitted-level-0);\n",
       "}\n",
       "\n",
       "#sk-container-id-1 div.sk-toggleable__content.fitted {\n",
       "  /* fitted */\n",
       "  background-color: var(--sklearn-color-fitted-level-0);\n",
       "}\n",
       "\n",
       "#sk-container-id-1 div.sk-toggleable__content pre {\n",
       "  margin: 0.2em;\n",
       "  border-radius: 0.25em;\n",
       "  color: var(--sklearn-color-text);\n",
       "  /* unfitted */\n",
       "  background-color: var(--sklearn-color-unfitted-level-0);\n",
       "}\n",
       "\n",
       "#sk-container-id-1 div.sk-toggleable__content.fitted pre {\n",
       "  /* unfitted */\n",
       "  background-color: var(--sklearn-color-fitted-level-0);\n",
       "}\n",
       "\n",
       "#sk-container-id-1 input.sk-toggleable__control:checked~div.sk-toggleable__content {\n",
       "  /* Expand drop-down */\n",
       "  max-height: 200px;\n",
       "  max-width: 100%;\n",
       "  overflow: auto;\n",
       "}\n",
       "\n",
       "#sk-container-id-1 input.sk-toggleable__control:checked~label.sk-toggleable__label-arrow:before {\n",
       "  content: \"▾\";\n",
       "}\n",
       "\n",
       "/* Pipeline/ColumnTransformer-specific style */\n",
       "\n",
       "#sk-container-id-1 div.sk-label input.sk-toggleable__control:checked~label.sk-toggleable__label {\n",
       "  color: var(--sklearn-color-text);\n",
       "  background-color: var(--sklearn-color-unfitted-level-2);\n",
       "}\n",
       "\n",
       "#sk-container-id-1 div.sk-label.fitted input.sk-toggleable__control:checked~label.sk-toggleable__label {\n",
       "  background-color: var(--sklearn-color-fitted-level-2);\n",
       "}\n",
       "\n",
       "/* Estimator-specific style */\n",
       "\n",
       "/* Colorize estimator box */\n",
       "#sk-container-id-1 div.sk-estimator input.sk-toggleable__control:checked~label.sk-toggleable__label {\n",
       "  /* unfitted */\n",
       "  background-color: var(--sklearn-color-unfitted-level-2);\n",
       "}\n",
       "\n",
       "#sk-container-id-1 div.sk-estimator.fitted input.sk-toggleable__control:checked~label.sk-toggleable__label {\n",
       "  /* fitted */\n",
       "  background-color: var(--sklearn-color-fitted-level-2);\n",
       "}\n",
       "\n",
       "#sk-container-id-1 div.sk-label label.sk-toggleable__label,\n",
       "#sk-container-id-1 div.sk-label label {\n",
       "  /* The background is the default theme color */\n",
       "  color: var(--sklearn-color-text-on-default-background);\n",
       "}\n",
       "\n",
       "/* On hover, darken the color of the background */\n",
       "#sk-container-id-1 div.sk-label:hover label.sk-toggleable__label {\n",
       "  color: var(--sklearn-color-text);\n",
       "  background-color: var(--sklearn-color-unfitted-level-2);\n",
       "}\n",
       "\n",
       "/* Label box, darken color on hover, fitted */\n",
       "#sk-container-id-1 div.sk-label.fitted:hover label.sk-toggleable__label.fitted {\n",
       "  color: var(--sklearn-color-text);\n",
       "  background-color: var(--sklearn-color-fitted-level-2);\n",
       "}\n",
       "\n",
       "/* Estimator label */\n",
       "\n",
       "#sk-container-id-1 div.sk-label label {\n",
       "  font-family: monospace;\n",
       "  font-weight: bold;\n",
       "  display: inline-block;\n",
       "  line-height: 1.2em;\n",
       "}\n",
       "\n",
       "#sk-container-id-1 div.sk-label-container {\n",
       "  text-align: center;\n",
       "}\n",
       "\n",
       "/* Estimator-specific */\n",
       "#sk-container-id-1 div.sk-estimator {\n",
       "  font-family: monospace;\n",
       "  border: 1px dotted var(--sklearn-color-border-box);\n",
       "  border-radius: 0.25em;\n",
       "  box-sizing: border-box;\n",
       "  margin-bottom: 0.5em;\n",
       "  /* unfitted */\n",
       "  background-color: var(--sklearn-color-unfitted-level-0);\n",
       "}\n",
       "\n",
       "#sk-container-id-1 div.sk-estimator.fitted {\n",
       "  /* fitted */\n",
       "  background-color: var(--sklearn-color-fitted-level-0);\n",
       "}\n",
       "\n",
       "/* on hover */\n",
       "#sk-container-id-1 div.sk-estimator:hover {\n",
       "  /* unfitted */\n",
       "  background-color: var(--sklearn-color-unfitted-level-2);\n",
       "}\n",
       "\n",
       "#sk-container-id-1 div.sk-estimator.fitted:hover {\n",
       "  /* fitted */\n",
       "  background-color: var(--sklearn-color-fitted-level-2);\n",
       "}\n",
       "\n",
       "/* Specification for estimator info (e.g. \"i\" and \"?\") */\n",
       "\n",
       "/* Common style for \"i\" and \"?\" */\n",
       "\n",
       ".sk-estimator-doc-link,\n",
       "a:link.sk-estimator-doc-link,\n",
       "a:visited.sk-estimator-doc-link {\n",
       "  float: right;\n",
       "  font-size: smaller;\n",
       "  line-height: 1em;\n",
       "  font-family: monospace;\n",
       "  background-color: var(--sklearn-color-background);\n",
       "  border-radius: 1em;\n",
       "  height: 1em;\n",
       "  width: 1em;\n",
       "  text-decoration: none !important;\n",
       "  margin-left: 1ex;\n",
       "  /* unfitted */\n",
       "  border: var(--sklearn-color-unfitted-level-1) 1pt solid;\n",
       "  color: var(--sklearn-color-unfitted-level-1);\n",
       "}\n",
       "\n",
       ".sk-estimator-doc-link.fitted,\n",
       "a:link.sk-estimator-doc-link.fitted,\n",
       "a:visited.sk-estimator-doc-link.fitted {\n",
       "  /* fitted */\n",
       "  border: var(--sklearn-color-fitted-level-1) 1pt solid;\n",
       "  color: var(--sklearn-color-fitted-level-1);\n",
       "}\n",
       "\n",
       "/* On hover */\n",
       "div.sk-estimator:hover .sk-estimator-doc-link:hover,\n",
       ".sk-estimator-doc-link:hover,\n",
       "div.sk-label-container:hover .sk-estimator-doc-link:hover,\n",
       ".sk-estimator-doc-link:hover {\n",
       "  /* unfitted */\n",
       "  background-color: var(--sklearn-color-unfitted-level-3);\n",
       "  color: var(--sklearn-color-background);\n",
       "  text-decoration: none;\n",
       "}\n",
       "\n",
       "div.sk-estimator.fitted:hover .sk-estimator-doc-link.fitted:hover,\n",
       ".sk-estimator-doc-link.fitted:hover,\n",
       "div.sk-label-container:hover .sk-estimator-doc-link.fitted:hover,\n",
       ".sk-estimator-doc-link.fitted:hover {\n",
       "  /* fitted */\n",
       "  background-color: var(--sklearn-color-fitted-level-3);\n",
       "  color: var(--sklearn-color-background);\n",
       "  text-decoration: none;\n",
       "}\n",
       "\n",
       "/* Span, style for the box shown on hovering the info icon */\n",
       ".sk-estimator-doc-link span {\n",
       "  display: none;\n",
       "  z-index: 9999;\n",
       "  position: relative;\n",
       "  font-weight: normal;\n",
       "  right: .2ex;\n",
       "  padding: .5ex;\n",
       "  margin: .5ex;\n",
       "  width: min-content;\n",
       "  min-width: 20ex;\n",
       "  max-width: 50ex;\n",
       "  color: var(--sklearn-color-text);\n",
       "  box-shadow: 2pt 2pt 4pt #999;\n",
       "  /* unfitted */\n",
       "  background: var(--sklearn-color-unfitted-level-0);\n",
       "  border: .5pt solid var(--sklearn-color-unfitted-level-3);\n",
       "}\n",
       "\n",
       ".sk-estimator-doc-link.fitted span {\n",
       "  /* fitted */\n",
       "  background: var(--sklearn-color-fitted-level-0);\n",
       "  border: var(--sklearn-color-fitted-level-3);\n",
       "}\n",
       "\n",
       ".sk-estimator-doc-link:hover span {\n",
       "  display: block;\n",
       "}\n",
       "\n",
       "/* \"?\"-specific style due to the `<a>` HTML tag */\n",
       "\n",
       "#sk-container-id-1 a.estimator_doc_link {\n",
       "  float: right;\n",
       "  font-size: 1rem;\n",
       "  line-height: 1em;\n",
       "  font-family: monospace;\n",
       "  background-color: var(--sklearn-color-background);\n",
       "  border-radius: 1rem;\n",
       "  height: 1rem;\n",
       "  width: 1rem;\n",
       "  text-decoration: none;\n",
       "  /* unfitted */\n",
       "  color: var(--sklearn-color-unfitted-level-1);\n",
       "  border: var(--sklearn-color-unfitted-level-1) 1pt solid;\n",
       "}\n",
       "\n",
       "#sk-container-id-1 a.estimator_doc_link.fitted {\n",
       "  /* fitted */\n",
       "  border: var(--sklearn-color-fitted-level-1) 1pt solid;\n",
       "  color: var(--sklearn-color-fitted-level-1);\n",
       "}\n",
       "\n",
       "/* On hover */\n",
       "#sk-container-id-1 a.estimator_doc_link:hover {\n",
       "  /* unfitted */\n",
       "  background-color: var(--sklearn-color-unfitted-level-3);\n",
       "  color: var(--sklearn-color-background);\n",
       "  text-decoration: none;\n",
       "}\n",
       "\n",
       "#sk-container-id-1 a.estimator_doc_link.fitted:hover {\n",
       "  /* fitted */\n",
       "  background-color: var(--sklearn-color-fitted-level-3);\n",
       "}\n",
       "</style><div id=\"sk-container-id-1\" class=\"sk-top-container\"><div class=\"sk-text-repr-fallback\"><pre>Pipeline(steps=[(&#x27;onehotencoder&#x27;,\n",
       "                 OneHotEncoder(handle_unknown=&#x27;ignore&#x27;, sparse_output=False)),\n",
       "                (&#x27;logisticregression&#x27;,\n",
       "                 LogisticRegression(C=0.1, max_iter=1000))])</pre><b>In a Jupyter environment, please rerun this cell to show the HTML representation or trust the notebook. <br />On GitHub, the HTML representation is unable to render, please try loading this page with nbviewer.org.</b></div><div class=\"sk-container\" hidden><div class=\"sk-item sk-dashed-wrapped\"><div class=\"sk-label-container\"><div class=\"sk-label fitted sk-toggleable\"><input class=\"sk-toggleable__control sk-hidden--visually\" id=\"sk-estimator-id-1\" type=\"checkbox\" ><label for=\"sk-estimator-id-1\" class=\"sk-toggleable__label fitted sk-toggleable__label-arrow fitted\">&nbsp;&nbsp;Pipeline<a class=\"sk-estimator-doc-link fitted\" rel=\"noreferrer\" target=\"_blank\" href=\"https://scikit-learn.org/1.5/modules/generated/sklearn.pipeline.Pipeline.html\">?<span>Documentation for Pipeline</span></a><span class=\"sk-estimator-doc-link fitted\">i<span>Fitted</span></span></label><div class=\"sk-toggleable__content fitted\"><pre>Pipeline(steps=[(&#x27;onehotencoder&#x27;,\n",
       "                 OneHotEncoder(handle_unknown=&#x27;ignore&#x27;, sparse_output=False)),\n",
       "                (&#x27;logisticregression&#x27;,\n",
       "                 LogisticRegression(C=0.1, max_iter=1000))])</pre></div> </div></div><div class=\"sk-serial\"><div class=\"sk-item\"><div class=\"sk-estimator fitted sk-toggleable\"><input class=\"sk-toggleable__control sk-hidden--visually\" id=\"sk-estimator-id-2\" type=\"checkbox\" ><label for=\"sk-estimator-id-2\" class=\"sk-toggleable__label fitted sk-toggleable__label-arrow fitted\">&nbsp;OneHotEncoder<a class=\"sk-estimator-doc-link fitted\" rel=\"noreferrer\" target=\"_blank\" href=\"https://scikit-learn.org/1.5/modules/generated/sklearn.preprocessing.OneHotEncoder.html\">?<span>Documentation for OneHotEncoder</span></a></label><div class=\"sk-toggleable__content fitted\"><pre>OneHotEncoder(handle_unknown=&#x27;ignore&#x27;, sparse_output=False)</pre></div> </div></div><div class=\"sk-item\"><div class=\"sk-estimator fitted sk-toggleable\"><input class=\"sk-toggleable__control sk-hidden--visually\" id=\"sk-estimator-id-3\" type=\"checkbox\" ><label for=\"sk-estimator-id-3\" class=\"sk-toggleable__label fitted sk-toggleable__label-arrow fitted\">&nbsp;LogisticRegression<a class=\"sk-estimator-doc-link fitted\" rel=\"noreferrer\" target=\"_blank\" href=\"https://scikit-learn.org/1.5/modules/generated/sklearn.linear_model.LogisticRegression.html\">?<span>Documentation for LogisticRegression</span></a></label><div class=\"sk-toggleable__content fitted\"><pre>LogisticRegression(C=0.1, max_iter=1000)</pre></div> </div></div></div></div></div></div>"
      ],
      "text/plain": [
       "Pipeline(steps=[('onehotencoder',\n",
       "                 OneHotEncoder(handle_unknown='ignore', sparse_output=False)),\n",
       "                ('logisticregression',\n",
       "                 LogisticRegression(C=0.1, max_iter=1000))])"
      ]
     },
     "execution_count": 16,
     "metadata": {},
     "output_type": "execute_result"
    }
   ],
   "source": [
    "lr =make_pipeline(\n",
    "    OneHotEncoder(handle_unknown='ignore',\n",
    "        sparse_output=False),\n",
    "    LogisticRegression(C=0.1,max_iter=1000)\n",
    ")\n",
    "lr.fit(X_train, y_train)"
   ]
  },
  {
   "cell_type": "markdown",
   "id": "6fd859d8",
   "metadata": {},
   "source": [
    "##### Evaluating the model\n",
    "Calculate the training and test accuracy scores for your models"
   ]
  },
  {
   "cell_type": "code",
   "execution_count": 17,
   "id": "79109630",
   "metadata": {},
   "outputs": [
    {
     "name": "stdout",
     "output_type": "stream",
     "text": [
      "Training Accuracy: 0.8\n",
      "Test Accuracy: 0.8\n"
     ]
    }
   ],
   "source": [
    "acc_train = accuracy_score(y_train, lr.predict(X_train))\n",
    "acc_test = lr.score(X_test, y_test)\n",
    "print(\"Training Accuracy:\", round(acc_train, 2))\n",
    "print(\"Test Accuracy:\", round(acc_test,2))"
   ]
  },
  {
   "cell_type": "markdown",
   "id": "906b7c51",
   "metadata": {},
   "source": [
    "##### Communicating Insights\n",
    "Extract features names and importances from the model"
   ]
  },
  {
   "cell_type": "code",
   "execution_count": 18,
   "id": "c84eacb1",
   "metadata": {},
   "outputs": [],
   "source": [
    "features = lr.named_steps[\"onehotencoder\"].get_feature_names_out()\n",
    "importances = lr.named_steps[\"logisticregression\"].coef_.flatten()"
   ]
  },
  {
   "cell_type": "markdown",
   "id": "d9381873",
   "metadata": {},
   "source": [
    "Create a pandas Series named odds_ratios, where the index is features and the values are your the exponential of the importances"
   ]
  },
  {
   "cell_type": "code",
   "execution_count": 19,
   "id": "71ee647b",
   "metadata": {},
   "outputs": [
    {
     "data": {
      "text/plain": [
       "loan_term_22        0.757783\n",
       "loan_term_50        0.758167\n",
       "loan_term_15        0.768584\n",
       "loan_term_56        0.787157\n",
       "credit_score_764    0.835197\n",
       "dtype: float64"
      ]
     },
     "execution_count": 19,
     "metadata": {},
     "output_type": "execute_result"
    }
   ],
   "source": [
    "# Create an odds_ratio Series\n",
    "odds_ratio = pd.Series(np.exp(importances), index=features).sort_values()\n",
    "odds_ratio.head()"
   ]
  },
  {
   "cell_type": "markdown",
   "id": "9d009708",
   "metadata": {},
   "source": [
    "Create a horizontal bar chart with the five largest coefficients from odds_ratios. Be sure to label your x-axis \"Odds Ratio\"."
   ]
  },
  {
   "cell_type": "code",
   "execution_count": 20,
   "id": "9fe9dcbe",
   "metadata": {},
   "outputs": [
    {
     "data": {
      "image/png": "[encoded data removed]",
      "text/plain": [
       "<Figure size 640x480 with 1 Axes>"
      ]
     },
     "metadata": {},
     "output_type": "display_data"
    }
   ],
   "source": [
    "# Horizontal bar chart of the large coefficients\n",
    "odds_ratio.tail().plot(kind=\"barh\")\n",
    "plt.xlabel(\"Odds Ratio\");"
   ]
  },
  {
   "cell_type": "markdown",
   "id": "3d422bca",
   "metadata": {},
   "source": [
    "Create a horizontal bar chart with the five smallest coefficients from odds_ratios. Be sure to label your x-axis \"Odds Ratio\""
   ]
  },
  {
   "cell_type": "code",
   "execution_count": 21,
   "id": "8f3a4138",
   "metadata": {},
   "outputs": [
    {
     "data": {
      "image/png": "[encoded data removed]",
      "text/plain": [
       "<Figure size 640x480 with 1 Axes>"
      ]
     },
     "metadata": {},
     "output_type": "display_data"
    }
   ],
   "source": [
    "# Horizontal bar chart of the small coefficients\n",
    "odds_ratio.head().plot(kind=\"barh\")\n",
    "plt.xlabel(\"Odds Ratio\");"
   ]
  }
 ],
 "metadata": {
  "kernelspec": {
   "display_name": "Python 3",
   "language": "python",
   "name": "python3"
  },
  "language_info": {
   "codemirror_mode": {
    "name": "ipython",
    "version": 3
   },
   "file_extension": ".py",
   "mimetype": "text/x-python",
   "name": "python",
   "nbconvert_exporter": "python",
   "pygments_lexer": "ipython3",
   "version": "3.12.2"
  }
 },
 "nbformat": 4,
 "nbformat_minor": 5
}
